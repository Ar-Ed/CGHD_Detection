{
 "cells": [
  {
   "cell_type": "code",
   "execution_count": null,
   "metadata": {},
   "outputs": [],
   "source": [
    "from utils_detectron2 import visualize_annotations, visualize_predictions, evaluate_predictions, move_train_artifacts_to_drive, LossEvalHook\n",
    "from utils_environment import load_classes_from_drive\n",
    "\n",
    "class_name_to_id_mapping, class_names = load_classes_from_drive()\n",
    "\n",
    "# CHDIR TO DETR REPO\n",
    "import os\n",
    "os.chdir(\"detr\")\n",
    "\n",
    "COLAB = False\n",
    "\n",
    "from detectron2.config import get_cfg\n",
    "from detectron2.engine import BestCheckpointer\n",
    "from detectron2.data import DatasetMapper, build_detection_test_loader\n",
    "from detectron2.data.datasets import register_coco_instances\n",
    "from detectron2.checkpoint import DetectionCheckpointer\n",
    "from d2.detr import add_detr_config\n",
    "from d2.train_net import Trainer\n",
    "\n",
    "%matplotlib inline"
   ]
  },
  {
   "cell_type": "code",
   "execution_count": null,
   "metadata": {},
   "outputs": [],
   "source": [
    "def create_trainer_validation_best_checkpoint(cfg):\n",
    "    class MyTrainer(Trainer): \n",
    "        def build_hooks(self):\n",
    "            hooks = super().build_hooks()\n",
    "\n",
    "            # Evaluate on VAL Set \n",
    "            hooks.insert(-1,LossEvalHook(\n",
    "                cfg.TEST.EVAL_PERIOD,\n",
    "                self.model,\n",
    "                build_detection_test_loader(\n",
    "                    self.cfg,\n",
    "                    self.cfg.DATASETS.TEST[0],\n",
    "                    DatasetMapper(self.cfg,True)\n",
    "                )\n",
    "            ))\n",
    "\n",
    "            # Save bestcheckpoint on BBOX/AP50 Metric on VAL SET\n",
    "            hooks.insert(-1, BestCheckpointer(cfg.TEST.EVAL_PERIOD,\n",
    "                DetectionCheckpointer(self.model, cfg.OUTPUT_DIR),\n",
    "                \"bbox/AP50\",\n",
    "                \"max\",\n",
    "                ))\n",
    "            return hooks\n",
    "\n",
    "    return MyTrainer(cfg)\n",
    "        \n",
    "def get_default_cfg(class_names):\n",
    "    cfg = get_cfg()\n",
    "    add_detr_config(cfg)\n",
    "    cfg.merge_from_file(\"d2/configs/detr_256_6_6_torchvision.yaml\")\n",
    "    cfg.DATASETS.TRAIN = (\"cghd_train\",)\n",
    "    cfg.DATASETS.TEST = (\"cghd_val\",)\n",
    "    cfg.DATALOADER.NUM_WORKERS = 0\n",
    "\n",
    "    cfg.MODEL.MASK_ON = False\n",
    "    cfg.MODEL.DETR.NUM_CLASSES = 45\n",
    "    \n",
    "    cfg.SOLVER.STEPS = []        # do not decay learning rate\n",
    "    cfg.TEST.EVAL_PERIOD = 20\n",
    "    \n",
    "    # NO AUGMENTATION fixed imgsize\n",
    "    cfg.INPUT.RANDOM_FLIP = \"none\"\n",
    "    cfg.INPUT.MIN_SIZE_TRAIN = (1024,)\n",
    "    cfg.INPUT.MAX_SIZE_TRAIN = 1024\n",
    "    cfg.INPUT.MIN_SIZE_TEST = 1024\n",
    "    cfg.INPUT.MAX_SIZE_TEST = 1024\n",
    "    cfg.INPUT.CROP.ENABLED = False\n",
    "    \n",
    "    \n",
    "    cfg.SOLVER.IMS_PER_BATCH = 2  # This is the real \"batch size\" commonly known to deep learning people\n",
    "    cfg.SOLVER.BASE_LR = 0.005 \n",
    "    cfg.SOLVER.MAX_ITER = 3000\n",
    "\n",
    "    return cfg"
   ]
  },
  {
   "cell_type": "code",
   "execution_count": null,
   "metadata": {},
   "outputs": [],
   "source": [
    "# LOAD DATA\n",
    "register_coco_instances(\"cghd_train\", {}, \"../CGHD-COCO/annotations/train.json\", \"../CGHD-COCO/train\")\n",
    "register_coco_instances(\"cghd_test\", {}, \"../CGHD-COCO/annotations/test.json\", \"../CGHD-COCO/test\")\n",
    "register_coco_instances(\"cghd_val\", {}, \"../CGHD-COCO/annotations/val.json\", \"../CGHD-COCO/val\")"
   ]
  },
  {
   "cell_type": "code",
   "execution_count": null,
   "metadata": {},
   "outputs": [],
   "source": [
    "visualize_annotations()"
   ]
  },
  {
   "attachments": {},
   "cell_type": "markdown",
   "metadata": {},
   "source": [
    "## DETR R50"
   ]
  },
  {
   "cell_type": "code",
   "execution_count": null,
   "metadata": {},
   "outputs": [],
   "source": [
    "cfg = get_default_cfg(class_names)\n",
    "\n",
    "cfg.OUTPUT_DIR = os.path.join(\"..\", \"detectron_models\", \"detr_R_50\")\n",
    "cfg.MODEL.WEIGHTS = \"detr_r50.pth\"\n",
    "cfg.SOLVER.MAX_ITER = 5000\n",
    "cfg.SOLVER.BASE_LR = 0.001 "
   ]
  },
  {
   "cell_type": "code",
   "execution_count": null,
   "metadata": {},
   "outputs": [],
   "source": [
    "os.makedirs(cfg.OUTPUT_DIR, exist_ok=True)\n",
    "trainer = create_trainer_validation_best_checkpoint(cfg)\n",
    "trainer.resume_or_load(resume=False)\n",
    "trainer.train()"
   ]
  },
  {
   "cell_type": "code",
   "execution_count": null,
   "metadata": {},
   "outputs": [],
   "source": [
    "visualize_predictions(cfg)"
   ]
  },
  {
   "cell_type": "code",
   "execution_count": null,
   "metadata": {},
   "outputs": [],
   "source": [
    "evaluate_predictions(cfg)"
   ]
  },
  {
   "cell_type": "code",
   "execution_count": null,
   "metadata": {},
   "outputs": [],
   "source": [
    "move_train_artifacts_to_drive(cfg)"
   ]
  },
  {
   "attachments": {},
   "cell_type": "markdown",
   "metadata": {},
   "source": [
    "## DETR R50 DC5"
   ]
  },
  {
   "cell_type": "code",
   "execution_count": null,
   "metadata": {},
   "outputs": [],
   "source": [
    "cfg = get_default_cfg(class_names)\n",
    "\n",
    "cfg.OUTPUT_DIR = os.path.join(\"..\", \"detectron_models\", \"detr_R_50_DC5\")\n",
    "cfg.MODEL.WEIGHTS = \"detr_r50_dc5.pth\"\n",
    "cfg.SOLVER.MAX_ITER = 5000\n",
    "cfg.SOLVER.BASE_LR = 0.001"
   ]
  },
  {
   "cell_type": "code",
   "execution_count": null,
   "metadata": {},
   "outputs": [],
   "source": [
    "os.makedirs(cfg.OUTPUT_DIR, exist_ok=True)\n",
    "trainer = Trainer(cfg, ) \n",
    "trainer.resume_or_load(resume=False)\n",
    "trainer.train()"
   ]
  },
  {
   "cell_type": "code",
   "execution_count": null,
   "metadata": {},
   "outputs": [],
   "source": [
    "visualize_predictions(cfg)"
   ]
  },
  {
   "cell_type": "code",
   "execution_count": null,
   "metadata": {},
   "outputs": [],
   "source": [
    "evaluate_predictions(cfg)"
   ]
  },
  {
   "cell_type": "code",
   "execution_count": null,
   "metadata": {},
   "outputs": [],
   "source": [
    "move_train_artifacts_to_drive(cfg)"
   ]
  }
 ],
 "metadata": {
  "kernelspec": {
   "display_name": "env",
   "language": "python",
   "name": "python3"
  },
  "language_info": {
   "codemirror_mode": {
    "name": "ipython",
    "version": 3
   },
   "file_extension": ".py",
   "mimetype": "text/x-python",
   "name": "python",
   "nbconvert_exporter": "python",
   "pygments_lexer": "ipython3",
   "version": "3.10.0"
  },
  "orig_nbformat": 4
 },
 "nbformat": 4,
 "nbformat_minor": 2
}
