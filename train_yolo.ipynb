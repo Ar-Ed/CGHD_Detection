{
 "cells": [
  {
   "cell_type": "code",
   "execution_count": null,
   "metadata": {},
   "outputs": [],
   "source": [
    "!python .\\yolov5\\train.py --weights yolov5s.pt --batch 4 --epochs 500 --data CGHD-1152.yaml --workers 2 --name na-1024-l6-e500 --cache disk --hyp hyp.no-augmentation.yaml --imgsz 1024 --project yolov5_models --patience 50"
   ]
  },
  {
   "cell_type": "code",
   "execution_count": null,
   "metadata": {},
   "outputs": [],
   "source": [
    "!python .\\yolov5\\train.py --weights yolov5l6.pt --batch 2 --epochs 500 --data CGHD-1152.yaml --workers 1 --name na-1024-l6-e500 --cache disk --hyp hyp.no-augmentation.yaml --imgsz 1024 --project yolov5_models --patience 50"
   ]
  },
  {
   "cell_type": "code",
   "execution_count": null,
   "metadata": {},
   "outputs": [],
   "source": [
    "!yolo detect train model=yolov8s.pt batch=2 epochs=500 data=CGHD-1152.yaml workers=0 name=na-1024-s-e500 cache=disk pretrained=True patience=50 imgsz=1024 save=True project=yolov8_models hsv_h=0 hsv_s=0 hsv_v=0 translate=0 fliplr=0 mosaic=0"
   ]
  },
  {
   "cell_type": "code",
   "execution_count": null,
   "metadata": {},
   "outputs": [],
   "source": [
    "!yolo detect train model=yolov8l.pt batch=2 epochs=500 data=CGHD-1152.yaml workers=0 name=na-1024-l-e500 cache=disk pretrained=True patience=50 imgsz=1024 save=True project=yolov8_models hsv_h=0 hsv_s=0 hsv_v=0 translate=0 fliplr=0 mosaic=0"
   ]
  }
 ],
 "metadata": {
  "kernelspec": {
   "display_name": "env",
   "language": "python",
   "name": "python3"
  },
  "language_info": {
   "codemirror_mode": {
    "name": "ipython",
    "version": 3
   },
   "file_extension": ".py",
   "mimetype": "text/x-python",
   "name": "python",
   "nbconvert_exporter": "python",
   "pygments_lexer": "ipython3",
   "version": "3.10.0"
  },
  "orig_nbformat": 4
 },
 "nbformat": 4,
 "nbformat_minor": 2
}
