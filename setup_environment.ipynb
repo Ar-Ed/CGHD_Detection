{
 "cells": [
  {
   "attachments": {},
   "cell_type": "markdown",
   "metadata": {},
   "source": [
    "## Install libraries"
   ]
  },
  {
   "cell_type": "code",
   "execution_count": null,
   "metadata": {},
   "outputs": [],
   "source": [
    "# Detectron2\n",
    "# might take couple of minutes\n",
    "!python -m pip install pyyaml==5.1\n",
    "!git clone https://github.com/facebookresearch/detectron2.git\n",
    "# if raises error on Windows --> insert \"-DWITH_CUDA\" to the extra_compile_args[\"nvcc\"] on setup.py\n",
    "!python -m pip install -e detectron2"
   ]
  },
  {
   "cell_type": "code",
   "execution_count": null,
   "metadata": {},
   "outputs": [],
   "source": [
    "# YOLO\n",
    "!git clone https://github.com/ultralytics/yolov5.git \n",
    "!pip install ultralytics\n",
    "!pip install -r yolov5/requirements.txt"
   ]
  },
  {
   "cell_type": "code",
   "execution_count": null,
   "metadata": {},
   "outputs": [],
   "source": [
    "# DETR\n",
    "!git clone https://github.com/facebookresearch/detr.git"
   ]
  },
  {
   "cell_type": "code",
   "execution_count": null,
   "metadata": {},
   "outputs": [],
   "source": [
    "# For the generaiton of COCO Format\n",
    "!git clone https://github.com/yukkyo/voc2coco.git"
   ]
  },
  {
   "cell_type": "code",
   "execution_count": null,
   "metadata": {},
   "outputs": [],
   "source": [
    "import os\n",
    "import shutil\n",
    "import torch\n",
    "import torchvision\n",
    "import detectron2\n",
    "\n",
    "\n",
    "from utils_environment import *\n",
    "\n",
    "# Dataset URL\n",
    "URL = \"https://osf.io/download/3qx7m/\"\n",
    "# TRUE IF ON COLAB \n",
    "COLAB = False"
   ]
  },
  {
   "attachments": {},
   "cell_type": "markdown",
   "metadata": {},
   "source": [
    "## Setup env"
   ]
  },
  {
   "cell_type": "code",
   "execution_count": null,
   "metadata": {},
   "outputs": [],
   "source": [
    "# mount drive if colab else make compatibility\n",
    "if COLAB:\n",
    "    shutil.rmtree(\"sample_data\")\n",
    "    \n",
    "if COLAB:\n",
    "    from google.colab import files, drive\n",
    "    drive.mount(\"content/\")\n",
    "else:\n",
    "    os.makedirs(os.path.join(\"content\", \"MyDrive\"), exist_ok=True)"
   ]
  },
  {
   "cell_type": "code",
   "execution_count": null,
   "metadata": {},
   "outputs": [],
   "source": [
    "# check cuda, torch, detectron2\n",
    "!nvcc --version\n",
    "TORCH_VERSION = \".\".join(torch.__version__.split(\".\")[:2])\n",
    "TORCHVISION_VERSION = \".\".join(torch.__version__.split(\".\")[:2])\n",
    "TORCHVISION_CUDA_VERSION = torch.__version__.split(\"+\")[-1]\n",
    "CUDA_VERSION = torch.__version__.split(\"+\")[-1]\n",
    "print(\"torch: \", TORCH_VERSION, \"; cuda: \", CUDA_VERSION)\n",
    "print(\"detectron2:\", detectron2.__version__)\n",
    "print(\"torchvision: \", TORCHVISION_VERSION, \"; cuda: \", TORCHVISION_CUDA_VERSION)"
   ]
  },
  {
   "cell_type": "code",
   "execution_count": null,
   "metadata": {},
   "outputs": [],
   "source": [
    "# download, decompress the data\n",
    "ZIP_NAME = 'CGHD-1152.zip'\n",
    "\n",
    "if COLAB:\n",
    "    !wget https://osf.io/download/3qx7m/ --verbose\n",
    "    !unzip index.html > /dev/null\n",
    "else:\n",
    "    install_dataset(ZIP_NAME, URL)\n",
    "    unzip(ZIP_NAME)"
   ]
  },
  {
   "cell_type": "code",
   "execution_count": null,
   "metadata": {},
   "outputs": [],
   "source": [
    "# Generate the files for yolo format\n",
    "enumerate_classes()\n",
    "# load to inspect (move to drive manually beforehand)\n",
    "class_name_to_id_mapping, class_names = load_classes_from_drive()\n",
    "generate_yolo_yaml_file()\n",
    "\n",
    "# makedirs for YOLO Dataset\n",
    "os.makedirs(os.path.join(\"CGHD-1152-YOLO\", \"labels\", \"test\"), exist_ok=True)\n",
    "os.makedirs(os.path.join(\"CGHD-1152-YOLO\", \"labels\", \"val\"), exist_ok=True)\n",
    "os.makedirs(os.path.join(\"CGHD-1152-YOLO\", \"labels\", \"train\"), exist_ok=True)\n",
    "os.makedirs(os.path.join(\"CGHD-1152-YOLO\", \"images\", \"test\"), exist_ok=True)\n",
    "os.makedirs(os.path.join(\"CGHD-1152-YOLO\", \"images\", \"val\"), exist_ok=True)\n",
    "os.makedirs(os.path.join(\"CGHD-1152-YOLO\", \"images\", \"train\"), exist_ok=True)\n",
    "\n",
    "generate_annotations_yolo_format()\n",
    "populate_yolo_folders()"
   ]
  },
  {
   "cell_type": "code",
   "execution_count": null,
   "metadata": {},
   "outputs": [],
   "source": [
    "setup_for_voc2coco(class_name_to_id_mapping)\n",
    "\n",
    "# Generate Json Annotations\n",
    "!python ./voc2coco/voc2coco.py --ann_dir \"Annotations/\" --ann_ids \"dataset_ids/train.txt\" --labels \"labels.txt\" --output \"train.json\"\n",
    "!python ./voc2coco/voc2coco.py --ann_dir \"Annotations/\" --ann_ids \"dataset_ids/val.txt\" --labels \"labels.txt\" --output \"val.json\"\n",
    "!python ./voc2coco/voc2coco.py --ann_dir \"Annotations/\" --ann_ids \"dataset_ids/test.txt\" --labels \"labels.txt\" --output \"test.json\"\n",
    "\n",
    "# Optional\n",
    "cleanup_voc2coco()\n",
    "\n",
    "# Move to Drive for later use\n",
    "assert shutil.copy(\"train.json\", os.path.join(\"content\", \"MyDrive\", \"CGHD_COCO_Format\"))\n",
    "assert shutil.copy(\"test.json\", os.path.join(\"content\", \"MyDrive\", \"CGHD_COCO_Format\"))\n",
    "assert shutil.copy(\"val.json\", os.path.join(\"content\", \"MyDrive\", \"CGHD_COCO_Format\"))"
   ]
  }
 ],
 "metadata": {
  "kernelspec": {
   "display_name": "env",
   "language": "python",
   "name": "python3"
  },
  "language_info": {
   "codemirror_mode": {
    "name": "ipython",
    "version": 3
   },
   "file_extension": ".py",
   "mimetype": "text/x-python",
   "name": "python",
   "nbconvert_exporter": "python",
   "pygments_lexer": "ipython3",
   "version": "3.10.0"
  },
  "orig_nbformat": 4
 },
 "nbformat": 4,
 "nbformat_minor": 2
}
